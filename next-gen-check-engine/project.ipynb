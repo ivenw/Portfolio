{
 "cells": [
  {
   "cell_type": "markdown",
   "source": [
    "# Air Pressure System Failure Challenge\n",
    "data from: [here](https://archive.ics.uci.edu/ml/datasets/APS+Failure+at+Scania+Trucks)\n",
    "\n",
    "scores to beat: \n",
    "\n",
    "Camila F. Costa and Mario A. Nascimento | 9920 | 542 | 9 \n",
    "\n",
    "Christopher Gondek, Daniel Hafner and Oliver R. Sampson | 10900 | 490 | 12 \n",
    "\n",
    "Sumeet Garnaik, Sushovan Das, Rama Syamala Sreepada and Bidyut Kr. Patra | 11480 | 398 | 15 "
   ],
   "metadata": {}
  },
  {
   "cell_type": "markdown",
   "source": [
    "## The Problem\n",
    "\n",
    "The Air Pressure system (APS) which generates pressurised air that are utilized in various functions in a truck, such as braking and gear changes. Malfunction of the APS is costly as it renders the truck stranded immediatly, leading to costly delays and towing operations. \n",
    "\n",
    "Scheduled preventative maintainance is historically the main tool to combat this. It is however costly and impractical to sample the entire fleet to prevent malfunctions. With the array of sensor data availabe to assess the performance and operating conditions of the APS however, we can attempt to predict imminent systems failure leading to more efficient resource allocation."
   ],
   "metadata": {}
  },
  {
   "cell_type": "code",
   "execution_count": 248,
   "source": [
    "import numpy as np\n",
    "import pandas as pd\n",
    "\n",
    "import matplotlib.pyplot as plt\n",
    "import seaborn as sns\n",
    "import missingno\n",
    "\n",
    "import joblib\n",
    "\n",
    "from sklearn.model_selection import train_test_split, GridSearchCV, StratifiedKFold\n",
    "from sklearn.feature_selection import RFECV\n",
    "from sklearn.experimental import enable_halving_search_cv\n",
    "from sklearn.model_selection import HalvingGridSearchCV\n",
    "\n",
    "from imblearn.pipeline import make_pipeline\n",
    "from imblearn.under_sampling import ClusterCentroids, RandomUnderSampler\n",
    "from imblearn.over_sampling import SMOTE, RandomOverSampler\n",
    "\n",
    "from sklearn.impute import KNNImputer, SimpleImputer\n",
    "from sklearn.preprocessing import StandardScaler\n",
    "\n",
    "from sklearn.dummy import DummyClassifier\n",
    "\n",
    "from sklearn.linear_model import LogisticRegression\n",
    "from sklearn.tree import DecisionTreeClassifier\n",
    "from sklearn.ensemble import RandomForestClassifier\n",
    "from sklearn.svm import SVC\n",
    "from sklearn.neighbors import KNeighborsClassifier\n",
    "from sklearn.naive_bayes import GaussianNB\n",
    "from sklearn.neural_network import MLPClassifier\n",
    "\n",
    "from sklearn.metrics import make_scorer, confusion_matrix, plot_confusion_matrix, classification_report"
   ],
   "outputs": [],
   "metadata": {}
  },
  {
   "cell_type": "code",
   "execution_count": 208,
   "source": [
    "df_train = pd.read_csv(\"aps_failure_training_set.csv\")"
   ],
   "outputs": [],
   "metadata": {}
  },
  {
   "cell_type": "code",
   "execution_count": 39,
   "source": [
    "df_test = pd.read_csv(\"aps_failure_test_set.csv\")"
   ],
   "outputs": [],
   "metadata": {}
  },
  {
   "cell_type": "code",
   "execution_count": 3,
   "source": [
    "df_train.head()"
   ],
   "outputs": [
    {
     "output_type": "execute_result",
     "data": {
      "text/html": [
       "<div>\n",
       "<style scoped>\n",
       "    .dataframe tbody tr th:only-of-type {\n",
       "        vertical-align: middle;\n",
       "    }\n",
       "\n",
       "    .dataframe tbody tr th {\n",
       "        vertical-align: top;\n",
       "    }\n",
       "\n",
       "    .dataframe thead th {\n",
       "        text-align: right;\n",
       "    }\n",
       "</style>\n",
       "<table border=\"1\" class=\"dataframe\">\n",
       "  <thead>\n",
       "    <tr style=\"text-align: right;\">\n",
       "      <th></th>\n",
       "      <th>class</th>\n",
       "      <th>aa_000</th>\n",
       "      <th>ab_000</th>\n",
       "      <th>ac_000</th>\n",
       "      <th>ad_000</th>\n",
       "      <th>ae_000</th>\n",
       "      <th>af_000</th>\n",
       "      <th>ag_000</th>\n",
       "      <th>ag_001</th>\n",
       "      <th>ag_002</th>\n",
       "      <th>...</th>\n",
       "      <th>ee_002</th>\n",
       "      <th>ee_003</th>\n",
       "      <th>ee_004</th>\n",
       "      <th>ee_005</th>\n",
       "      <th>ee_006</th>\n",
       "      <th>ee_007</th>\n",
       "      <th>ee_008</th>\n",
       "      <th>ee_009</th>\n",
       "      <th>ef_000</th>\n",
       "      <th>eg_000</th>\n",
       "    </tr>\n",
       "  </thead>\n",
       "  <tbody>\n",
       "    <tr>\n",
       "      <th>0</th>\n",
       "      <td>neg</td>\n",
       "      <td>76698</td>\n",
       "      <td>na</td>\n",
       "      <td>2130706438</td>\n",
       "      <td>280</td>\n",
       "      <td>0</td>\n",
       "      <td>0</td>\n",
       "      <td>0</td>\n",
       "      <td>0</td>\n",
       "      <td>0</td>\n",
       "      <td>...</td>\n",
       "      <td>1240520</td>\n",
       "      <td>493384</td>\n",
       "      <td>721044</td>\n",
       "      <td>469792</td>\n",
       "      <td>339156</td>\n",
       "      <td>157956</td>\n",
       "      <td>73224</td>\n",
       "      <td>0</td>\n",
       "      <td>0</td>\n",
       "      <td>0</td>\n",
       "    </tr>\n",
       "    <tr>\n",
       "      <th>1</th>\n",
       "      <td>neg</td>\n",
       "      <td>33058</td>\n",
       "      <td>na</td>\n",
       "      <td>0</td>\n",
       "      <td>na</td>\n",
       "      <td>0</td>\n",
       "      <td>0</td>\n",
       "      <td>0</td>\n",
       "      <td>0</td>\n",
       "      <td>0</td>\n",
       "      <td>...</td>\n",
       "      <td>421400</td>\n",
       "      <td>178064</td>\n",
       "      <td>293306</td>\n",
       "      <td>245416</td>\n",
       "      <td>133654</td>\n",
       "      <td>81140</td>\n",
       "      <td>97576</td>\n",
       "      <td>1500</td>\n",
       "      <td>0</td>\n",
       "      <td>0</td>\n",
       "    </tr>\n",
       "    <tr>\n",
       "      <th>2</th>\n",
       "      <td>neg</td>\n",
       "      <td>41040</td>\n",
       "      <td>na</td>\n",
       "      <td>228</td>\n",
       "      <td>100</td>\n",
       "      <td>0</td>\n",
       "      <td>0</td>\n",
       "      <td>0</td>\n",
       "      <td>0</td>\n",
       "      <td>0</td>\n",
       "      <td>...</td>\n",
       "      <td>277378</td>\n",
       "      <td>159812</td>\n",
       "      <td>423992</td>\n",
       "      <td>409564</td>\n",
       "      <td>320746</td>\n",
       "      <td>158022</td>\n",
       "      <td>95128</td>\n",
       "      <td>514</td>\n",
       "      <td>0</td>\n",
       "      <td>0</td>\n",
       "    </tr>\n",
       "    <tr>\n",
       "      <th>3</th>\n",
       "      <td>neg</td>\n",
       "      <td>12</td>\n",
       "      <td>0</td>\n",
       "      <td>70</td>\n",
       "      <td>66</td>\n",
       "      <td>0</td>\n",
       "      <td>10</td>\n",
       "      <td>0</td>\n",
       "      <td>0</td>\n",
       "      <td>0</td>\n",
       "      <td>...</td>\n",
       "      <td>240</td>\n",
       "      <td>46</td>\n",
       "      <td>58</td>\n",
       "      <td>44</td>\n",
       "      <td>10</td>\n",
       "      <td>0</td>\n",
       "      <td>0</td>\n",
       "      <td>0</td>\n",
       "      <td>4</td>\n",
       "      <td>32</td>\n",
       "    </tr>\n",
       "    <tr>\n",
       "      <th>4</th>\n",
       "      <td>neg</td>\n",
       "      <td>60874</td>\n",
       "      <td>na</td>\n",
       "      <td>1368</td>\n",
       "      <td>458</td>\n",
       "      <td>0</td>\n",
       "      <td>0</td>\n",
       "      <td>0</td>\n",
       "      <td>0</td>\n",
       "      <td>0</td>\n",
       "      <td>...</td>\n",
       "      <td>622012</td>\n",
       "      <td>229790</td>\n",
       "      <td>405298</td>\n",
       "      <td>347188</td>\n",
       "      <td>286954</td>\n",
       "      <td>311560</td>\n",
       "      <td>433954</td>\n",
       "      <td>1218</td>\n",
       "      <td>0</td>\n",
       "      <td>0</td>\n",
       "    </tr>\n",
       "  </tbody>\n",
       "</table>\n",
       "<p>5 rows × 171 columns</p>\n",
       "</div>"
      ],
      "text/plain": [
       "  class  aa_000 ab_000      ac_000 ad_000 ae_000 af_000 ag_000 ag_001 ag_002  \\\n",
       "0   neg   76698     na  2130706438    280      0      0      0      0      0   \n",
       "1   neg   33058     na           0     na      0      0      0      0      0   \n",
       "2   neg   41040     na         228    100      0      0      0      0      0   \n",
       "3   neg      12      0          70     66      0     10      0      0      0   \n",
       "4   neg   60874     na        1368    458      0      0      0      0      0   \n",
       "\n",
       "   ...   ee_002  ee_003  ee_004  ee_005  ee_006  ee_007  ee_008 ee_009 ef_000  \\\n",
       "0  ...  1240520  493384  721044  469792  339156  157956   73224      0      0   \n",
       "1  ...   421400  178064  293306  245416  133654   81140   97576   1500      0   \n",
       "2  ...   277378  159812  423992  409564  320746  158022   95128    514      0   \n",
       "3  ...      240      46      58      44      10       0       0      0      4   \n",
       "4  ...   622012  229790  405298  347188  286954  311560  433954   1218      0   \n",
       "\n",
       "  eg_000  \n",
       "0      0  \n",
       "1      0  \n",
       "2      0  \n",
       "3     32  \n",
       "4      0  \n",
       "\n",
       "[5 rows x 171 columns]"
      ]
     },
     "metadata": {},
     "execution_count": 3
    }
   ],
   "metadata": {}
  },
  {
   "cell_type": "code",
   "execution_count": 209,
   "source": [
    "# set na to proper NaNs for later imputation\n",
    "df_train.replace(\"na\", np.nan, inplace=True)\n",
    "df_test.replace(\"na\", np.nan, inplace=True)\n",
    "\n",
    "# encode class\n",
    "df_train['class'].replace(['pos','neg'],[1,0], inplace=True)\n",
    "df_test['class'].replace(['pos','neg'],[1,0], inplace=True)\n",
    "\n",
    "# change dtypes to numbers\n",
    "df_train = df_train.astype(np.float64)\n",
    "df_test = df_test.astype(np.float64)\n",
    "\n",
    "# remove features with 0 variance straight away\n",
    "# df_train = df_train.loc[:,df_train.apply(pd.Series.nunique) != 1]\n",
    "\n",
    "# drop duplicates\n",
    "# df_train = df_train.drop_duplicates()\n",
    "# df_train = df_train.T.drop_duplicates().T\n"
   ],
   "outputs": [],
   "metadata": {}
  },
  {
   "cell_type": "code",
   "execution_count": 210,
   "source": [
    "# check for class imbalance\n",
    "df_train[\"class\"].value_counts(normalize=True)"
   ],
   "outputs": [
    {
     "output_type": "execute_result",
     "data": {
      "text/plain": [
       "0.0    0.983333\n",
       "1.0    0.016667\n",
       "Name: class, dtype: float64"
      ]
     },
     "metadata": {},
     "execution_count": 210
    }
   ],
   "metadata": {}
  },
  {
   "cell_type": "code",
   "execution_count": 211,
   "source": [
    "# checking for nullity\n",
    "missingno.matrix(df_train)"
   ],
   "outputs": [
    {
     "output_type": "execute_result",
     "data": {
      "text/plain": [
       "<AxesSubplot:>"
      ]
     },
     "metadata": {},
     "execution_count": 211
    },
    {
     "output_type": "display_data",
     "data": {
      "image/png": "[encoded data removed]",
      "text/plain": [
       "<Figure size 1800x720 with 2 Axes>"
      ]
     },
     "metadata": {
      "needs_background": "light"
     }
    }
   ],
   "metadata": {}
  },
  {
   "cell_type": "code",
   "execution_count": 120,
   "source": [
    "# # drop any column with over 50 % values missing\n",
    "# # percent_rows_not_nan = 0.5\n",
    "# # mask = (pd.isna(df_train).sum() <= len(df_train) * percent_rows_not_nan).values\n",
    "\n",
    "# # df_train_drop = df_train.loc[:, mask].copy()\n",
    "# # print(f\"{np.around((1 - len(df_train_drop.columns) / len(df_train.columns)) * 100, 2)} % of columns dropped.\")\n",
    "\n",
    "# # drop any row with over 50 % values missing\n",
    "# # percent_cols_not_nan = 0.5\n",
    "# # tresh_columns = np.floor(len(df_train.columns) * percent_cols_not_nan).astype(int)\n",
    "\n",
    "# df_train_drop.dropna(thresh=tresh_columns, inplace=True)\n",
    "# print(f\"{np.around((1 - len(df_train_drop) / len(df_train)) * 100, 2)} % of rows dropped.\")\n",
    "\n",
    "# # reset index\n",
    "# df_train.reset_index(drop=True, inplace=True)"
   ],
   "outputs": [
    {
     "output_type": "stream",
     "name": "stdout",
     "text": [
      "4.71 % of columns dropped.\n",
      "0.7 % of rows dropped.\n"
     ]
    }
   ],
   "metadata": {}
  },
  {
   "cell_type": "code",
   "execution_count": 212,
   "source": [
    "missingno.matrix(df_train_drop)"
   ],
   "outputs": [
    {
     "output_type": "execute_result",
     "data": {
      "text/plain": [
       "<AxesSubplot:>"
      ]
     },
     "metadata": {},
     "execution_count": 212
    },
    {
     "output_type": "display_data",
     "data": {
      "image/png": "[encoded data removed]",
      "text/plain": [
       "<Figure size 1800x720 with 2 Axes>"
      ]
     },
     "metadata": {
      "needs_background": "light"
     }
    }
   ],
   "metadata": {}
  },
  {
   "cell_type": "code",
   "execution_count": 217,
   "source": [
    "# check class imbalance after pre-preprocessing\n",
    "df_train[\"class\"].value_counts()"
   ],
   "outputs": [
    {
     "output_type": "execute_result",
     "data": {
      "text/plain": [
       "0.0    59000\n",
       "1.0     1000\n",
       "Name: class, dtype: int64"
      ]
     },
     "metadata": {},
     "execution_count": 217
    }
   ],
   "metadata": {}
  },
  {
   "cell_type": "code",
   "execution_count": 11,
   "source": [
    "# def evaluator(y_true, y_pred_proba):\n",
    "#     p_to_try = np.linspace(0.5, 1, 51)\n",
    "#     score_lst = []\n",
    "\n",
    "#     for p in p_to_try:\n",
    "#         y_pred = []\n",
    "#         for i in y_pred_proba:\n",
    "#             if i >= p:\n",
    "#                 y_pred.append(1)\n",
    "#             else:\n",
    "#                 y_pred.append(0)\n",
    "#         cm = confusion_matrix(y_true, y_pred)\n",
    "#         score = (cm[0, 1] * 10 + cm[1, 0] * 500) / len(y_true) # FP + FN\n",
    "#         score_lst.append(score)    \n",
    "\n",
    "#     return min(score_lst)\n",
    "\n",
    "# scorer = make_scorer(evaluator, greater_is_better=False, needs_proba=True)"
   ],
   "outputs": [],
   "metadata": {}
  },
  {
   "cell_type": "code",
   "execution_count": 41,
   "source": [
    "def evaluator(y_true, y_pred):\n",
    "    cm = confusion_matrix(y_true, y_pred)\n",
    "    return (cm[0, 1] * 10 + cm[1, 0] * 500) # FP + FN\n",
    "\n",
    "scorer = make_scorer(evaluator, greater_is_better=False)"
   ],
   "outputs": [],
   "metadata": {}
  },
  {
   "cell_type": "code",
   "execution_count": 40,
   "source": [
    "def evaluator_norm(y_true, y_pred):\n",
    "    cm = confusion_matrix(y_true, y_pred)\n",
    "    return (cm[0, 1] * 10 + cm[1, 0] * 500) / len(y_true) # FP + FN\n",
    "\n",
    "scorer_norm = make_scorer(evaluator_norm, greater_is_better=False)"
   ],
   "outputs": [],
   "metadata": {}
  },
  {
   "cell_type": "code",
   "execution_count": 124,
   "source": [
    "df_train.replace([np.inf, -np.inf], np.nan, inplace=True)"
   ],
   "outputs": [],
   "metadata": {}
  },
  {
   "cell_type": "code",
   "execution_count": 236,
   "source": [
    "target_var = \"class\"\n",
    "y = df_train[target_var]\n",
    "X = df_train.drop(target_var, axis=1)\n",
    "\n",
    "y_test = df_test[target_var]\n",
    "X_test = df_test.drop(target_var, axis=1)"
   ],
   "outputs": [],
   "metadata": {}
  },
  {
   "cell_type": "code",
   "execution_count": 244,
   "source": [
    "# dummy classifier for doing nothing\n",
    "no_action = DummyClassifier(strategy=\"most_frequent\", random_state=42)\n",
    "\n",
    "no_action.fit(X, y)\n",
    "y_dummy_pred = no_action.predict(X)\n",
    "\n",
    "\n",
    "plot_confusion_matrix(no_action, X_test, y_test)\n",
    "scorer(no_action, X_test, y_test)"
   ],
   "outputs": [
    {
     "output_type": "execute_result",
     "data": {
      "text/plain": [
       "-187500"
      ]
     },
     "metadata": {},
     "execution_count": 244
    },
    {
     "output_type": "display_data",
     "data": {
      "image/png": "[encoded data removed]",
      "text/plain": [
       "<Figure size 432x288 with 2 Axes>"
      ]
     },
     "metadata": {
      "needs_background": "light"
     }
    }
   ],
   "metadata": {}
  },
  {
   "cell_type": "code",
   "execution_count": 243,
   "source": [
    "# dummy classifier for randomly checking a truck\n",
    "guess = DummyClassifier(strategy=\"stratified\", random_state=42)\n",
    "\n",
    "guess.fit(X, y)\n",
    "y_dummy_pred = guess.predict(X)\n",
    "\n",
    "\n",
    "plot_confusion_matrix(guess, X_test, y_test)\n",
    "scorer(guess, X_test, y_test)\n"
   ],
   "outputs": [
    {
     "output_type": "execute_result",
     "data": {
      "text/plain": [
       "-185440"
      ]
     },
     "metadata": {},
     "execution_count": 243
    },
    {
     "output_type": "display_data",
     "data": {
      "image/png": "[encoded data removed]",
      "text/plain": [
       "<Figure size 432x288 with 2 Axes>"
      ]
     },
     "metadata": {
      "needs_background": "light"
     }
    }
   ],
   "metadata": {}
  },
  {
   "cell_type": "code",
   "execution_count": 127,
   "source": [
    "classifiers = [\n",
    "    LogisticRegression(max_iter=1_000)\n",
    "    , DecisionTreeClassifier()\n",
    "    , RandomForestClassifier()\n",
    "    , SVC()\n",
    "    , KNeighborsClassifier()\n",
    "    , GaussianNB()\n",
    "    , MLPClassifier()\n",
    "]\n",
    "\n",
    "impute = SimpleImputer(strategy=\"median\")\n",
    "over = RandomOverSampler(sampling_strategy=0.5, random_state=42)\n",
    "under = RandomUnderSampler(sampling_strategy=0.5, random_state=42)\n",
    "\n",
    "def producer(clf):\n",
    "    pipe = make_pipeline(under, impute, StandardScaler(), clf)\n",
    "\n",
    "    search = GridSearchCV(pipe, {}, scoring=scorer_norm, n_jobs=-1, cv=StratifiedKFold())\n",
    "\n",
    "    search.fit(X, y)\n",
    "\n",
    "    return (str(clf), search.best_score_, search.refit_time_)\n",
    "\n",
    "clf_perf = joblib.Parallel(n_jobs=-1)(joblib.delayed(producer)(clf) for clf in classifiers)\n",
    "\n",
    "# clf_perf = []\n",
    "# for clf in classifiers:\n",
    "#     clf_perf.append(producer(clf))\n",
    "\n",
    "scores = pd.DataFrame(clf_perf, columns=[\"clf\", \"score\", \"time\"])\n",
    "scores.sort_values(by=\"score\", inplace=True)"
   ],
   "outputs": [
    {
     "output_type": "stream",
     "name": "stderr",
     "text": [
      "/Users/ivenwinkelmann/opt/anaconda3/lib/python3.8/site-packages/sklearn/neural_network/_multilayer_perceptron.py:614: ConvergenceWarning: Stochastic Optimizer: Maximum iterations (200) reached and the optimization hasn't converged yet.\n",
      "  warnings.warn(\n",
      "/Users/ivenwinkelmann/opt/anaconda3/lib/python3.8/site-packages/sklearn/neural_network/_multilayer_perceptron.py:614: ConvergenceWarning: Stochastic Optimizer: Maximum iterations (200) reached and the optimization hasn't converged yet.\n",
      "  warnings.warn(\n",
      "/Users/ivenwinkelmann/opt/anaconda3/lib/python3.8/site-packages/sklearn/neural_network/_multilayer_perceptron.py:614: ConvergenceWarning: Stochastic Optimizer: Maximum iterations (200) reached and the optimization hasn't converged yet.\n",
      "  warnings.warn(\n",
      "/Users/ivenwinkelmann/opt/anaconda3/lib/python3.8/site-packages/sklearn/neural_network/_multilayer_perceptron.py:614: ConvergenceWarning: Stochastic Optimizer: Maximum iterations (200) reached and the optimization hasn't converged yet.\n",
      "  warnings.warn(\n",
      "/Users/ivenwinkelmann/opt/anaconda3/lib/python3.8/site-packages/sklearn/neural_network/_multilayer_perceptron.py:614: ConvergenceWarning: Stochastic Optimizer: Maximum iterations (200) reached and the optimization hasn't converged yet.\n",
      "  warnings.warn(\n",
      "/Users/ivenwinkelmann/opt/anaconda3/lib/python3.8/site-packages/sklearn/neural_network/_multilayer_perceptron.py:614: ConvergenceWarning: Stochastic Optimizer: Maximum iterations (200) reached and the optimization hasn't converged yet.\n",
      "  warnings.warn(\n"
     ]
    }
   ],
   "metadata": {}
  },
  {
   "cell_type": "code",
   "execution_count": 128,
   "source": [
    "scores"
   ],
   "outputs": [
    {
     "output_type": "execute_result",
     "data": {
      "text/html": [
       "<div>\n",
       "<style scoped>\n",
       "    .dataframe tbody tr th:only-of-type {\n",
       "        vertical-align: middle;\n",
       "    }\n",
       "\n",
       "    .dataframe tbody tr th {\n",
       "        vertical-align: top;\n",
       "    }\n",
       "\n",
       "    .dataframe thead th {\n",
       "        text-align: right;\n",
       "    }\n",
       "</style>\n",
       "<table border=\"1\" class=\"dataframe\">\n",
       "  <thead>\n",
       "    <tr style=\"text-align: right;\">\n",
       "      <th></th>\n",
       "      <th>clf</th>\n",
       "      <th>score</th>\n",
       "      <th>time</th>\n",
       "    </tr>\n",
       "  </thead>\n",
       "  <tbody>\n",
       "    <tr>\n",
       "      <th>1</th>\n",
       "      <td>DecisionTreeClassifier()</td>\n",
       "      <td>-1.257342</td>\n",
       "      <td>2.395137</td>\n",
       "    </tr>\n",
       "    <tr>\n",
       "      <th>5</th>\n",
       "      <td>GaussianNB()</td>\n",
       "      <td>-1.241230</td>\n",
       "      <td>0.723579</td>\n",
       "    </tr>\n",
       "    <tr>\n",
       "      <th>4</th>\n",
       "      <td>KNeighborsClassifier()</td>\n",
       "      <td>-1.155628</td>\n",
       "      <td>0.140974</td>\n",
       "    </tr>\n",
       "    <tr>\n",
       "      <th>3</th>\n",
       "      <td>SVC()</td>\n",
       "      <td>-1.052066</td>\n",
       "      <td>0.429345</td>\n",
       "    </tr>\n",
       "    <tr>\n",
       "      <th>0</th>\n",
       "      <td>LogisticRegression(max_iter=1000)</td>\n",
       "      <td>-1.013294</td>\n",
       "      <td>1.358704</td>\n",
       "    </tr>\n",
       "    <tr>\n",
       "      <th>6</th>\n",
       "      <td>MLPClassifier()</td>\n",
       "      <td>-0.904358</td>\n",
       "      <td>4.268836</td>\n",
       "    </tr>\n",
       "    <tr>\n",
       "      <th>2</th>\n",
       "      <td>RandomForestClassifier()</td>\n",
       "      <td>-0.778639</td>\n",
       "      <td>2.180014</td>\n",
       "    </tr>\n",
       "  </tbody>\n",
       "</table>\n",
       "</div>"
      ],
      "text/plain": [
       "                                 clf     score      time\n",
       "1           DecisionTreeClassifier() -1.257342  2.395137\n",
       "5                       GaussianNB() -1.241230  0.723579\n",
       "4             KNeighborsClassifier() -1.155628  0.140974\n",
       "3                              SVC() -1.052066  0.429345\n",
       "0  LogisticRegression(max_iter=1000) -1.013294  1.358704\n",
       "6                    MLPClassifier() -0.904358  4.268836\n",
       "2           RandomForestClassifier() -0.778639  2.180014"
      ]
     },
     "metadata": {},
     "execution_count": 128
    }
   ],
   "metadata": {}
  },
  {
   "cell_type": "code",
   "execution_count": 93,
   "source": [
    "# test over/under sampling\n",
    "over = RandomOverSampler(sampling_strategy=0.1, random_state=42)\n",
    "under = RandomUnderSampler(sampling_strategy=0.5, random_state=42)\n",
    "\n",
    "over_under = make_pipeline(over, under)\n",
    "\n",
    "X_res, y_res = over_under.fit_resample(X, y)\n",
    "\n",
    "print(len(pd.concat((X_res, y_res), axis=1)))\n",
    "pd.concat((X_res, y_res), axis=1)[\"class\"].value_counts()"
   ],
   "outputs": [
    {
     "output_type": "stream",
     "name": "stdout",
     "text": [
      "17574\n"
     ]
    },
    {
     "output_type": "execute_result",
     "data": {
      "text/plain": [
       "0.0    11716\n",
       "1.0     5858\n",
       "Name: class, dtype: int64"
      ]
     },
     "metadata": {},
     "execution_count": 93
    }
   ],
   "metadata": {}
  },
  {
   "cell_type": "code",
   "execution_count": 237,
   "source": [
    "# select features\n",
    "under = RandomUnderSampler(sampling_strategy=0.5, random_state=42, replacement=True)\n",
    "impute = SimpleImputer(strategy=\"median\")\n",
    "clf = RandomForestClassifier(n_estimators=48, n_jobs=-1)\n",
    "selector = RFECV(clf, cv=StratifiedKFold(), scoring=scorer_norm, min_features_to_select=10, step=2)\n",
    "\n",
    "selector_pipe = make_pipeline(impute, under, selector)\n",
    "\n",
    "selector_pipe.fit(X, y)\n",
    "\n",
    "feature_mask = selector_pipe[2].support_"
   ],
   "outputs": [],
   "metadata": {}
  },
  {
   "cell_type": "code",
   "execution_count": 238,
   "source": [
    "len(feature_mask)"
   ],
   "outputs": [
    {
     "output_type": "execute_result",
     "data": {
      "text/plain": [
       "170"
      ]
     },
     "metadata": {},
     "execution_count": 238
    }
   ],
   "metadata": {}
  },
  {
   "cell_type": "code",
   "execution_count": 239,
   "source": [
    "# set up pipeline\n",
    "\n",
    "impute = SimpleImputer(strategy=\"median\")\n",
    "under = RandomUnderSampler(sampling_strategy=0.5, random_state=42, replacement=True)\n",
    "clf = RandomForestClassifier(n_jobs=-1, random_state=42)\n",
    "\n",
    "pipe = make_pipeline(under, impute, clf)\n",
    "\n",
    "search_rf = GridSearchCV(pipe, {}, scoring=scorer, cv=StratifiedKFold())\n",
    "\n",
    "search_rf.fit(X.loc[:,feature_mask], y)\n",
    "\n",
    "print(search_rf.best_score_)"
   ],
   "outputs": [
    {
     "output_type": "stream",
     "name": "stdout",
     "text": [
      "-9536.0\n"
     ]
    }
   ],
   "metadata": {}
  },
  {
   "cell_type": "code",
   "execution_count": 184,
   "source": [
    "# tune hyperparameters\n",
    "impute = SimpleImputer(strategy=\"median\")\n",
    "under = RandomUnderSampler(sampling_strategy=0.5, random_state=42, replacement=True)\n",
    "clf = RandomForestClassifier(n_jobs=-1, random_state=42, warm_start=True)\n",
    "\n",
    "pipe = make_pipeline(under, impute, clf)\n",
    "\n",
    "param_grid = {\n",
    "    \"randomforestclassifier__n_estimators\": np.around(np.linspace(10, 500, 20),0).astype(int)\n",
    "    , \"randomforestclassifier__min_samples_leaf\": np.arange(1, 5)\n",
    "}\n",
    "\n",
    "hyper_search = HalvingGridSearchCV(pipe, param_grid, scoring=scorer_norm, cv=StratifiedKFold())\n",
    "\n",
    "hyper_search.fit(X.loc[:,feature_mask], y)\n",
    "\n",
    "print(hyper_search.best_score_)\n",
    "print(hyper_search.best_params_)"
   ],
   "outputs": [
    {
     "output_type": "stream",
     "name": "stdout",
     "text": [
      "-0.7684921704116365\n",
      "{'randomforestclassifier__min_samples_leaf': 2, 'randomforestclassifier__n_estimators': 87}\n"
     ]
    }
   ],
   "metadata": {}
  },
  {
   "cell_type": "code",
   "execution_count": 240,
   "source": [
    "y_pred = search_rf.predict(X.loc[:, feature_mask])\n",
    "\n",
    "evaluator(y, y_pred)"
   ],
   "outputs": [
    {
     "output_type": "execute_result",
     "data": {
      "text/plain": [
       "24100"
      ]
     },
     "metadata": {},
     "execution_count": 240
    }
   ],
   "metadata": {}
  },
  {
   "cell_type": "code",
   "execution_count": 241,
   "source": [
    "# find the probablity treshold that gives the best score\n",
    "y_pred_proba = search_rf.predict_proba(X.loc[:, feature_mask])\n",
    "\n",
    "score_lst = []\n",
    "p_to_try = np.linspace(0.5, 1, 51)\n",
    "\n",
    "for p in p_to_try:\n",
    "    y_pred = []\n",
    "    for i in y_pred_proba[:, 1]:\n",
    "        if i >= p:\n",
    "            y_pred.append(1)\n",
    "        else:\n",
    "            y_pred.append(0)\n",
    "    score_lst.append(evaluator(y, y_pred))\n",
    "    \n",
    "pd.DataFrame(list(zip(p_to_try, score_lst)), columns=[\"p\", \"score\"]).sort_values(by=\"score\")\n"
   ],
   "outputs": [
    {
     "output_type": "execute_result",
     "data": {
      "text/html": [
       "<div>\n",
       "<style scoped>\n",
       "    .dataframe tbody tr th:only-of-type {\n",
       "        vertical-align: middle;\n",
       "    }\n",
       "\n",
       "    .dataframe tbody tr th {\n",
       "        vertical-align: top;\n",
       "    }\n",
       "\n",
       "    .dataframe thead th {\n",
       "        text-align: right;\n",
       "    }\n",
       "</style>\n",
       "<table border=\"1\" class=\"dataframe\">\n",
       "  <thead>\n",
       "    <tr style=\"text-align: right;\">\n",
       "      <th></th>\n",
       "      <th>p</th>\n",
       "      <th>score</th>\n",
       "    </tr>\n",
       "  </thead>\n",
       "  <tbody>\n",
       "    <tr>\n",
       "      <th>13</th>\n",
       "      <td>0.63</td>\n",
       "      <td>21100</td>\n",
       "    </tr>\n",
       "    <tr>\n",
       "      <th>16</th>\n",
       "      <td>0.66</td>\n",
       "      <td>21120</td>\n",
       "    </tr>\n",
       "    <tr>\n",
       "      <th>15</th>\n",
       "      <td>0.65</td>\n",
       "      <td>21160</td>\n",
       "    </tr>\n",
       "    <tr>\n",
       "      <th>14</th>\n",
       "      <td>0.64</td>\n",
       "      <td>21190</td>\n",
       "    </tr>\n",
       "    <tr>\n",
       "      <th>11</th>\n",
       "      <td>0.61</td>\n",
       "      <td>21220</td>\n",
       "    </tr>\n",
       "    <tr>\n",
       "      <th>12</th>\n",
       "      <td>0.62</td>\n",
       "      <td>21250</td>\n",
       "    </tr>\n",
       "    <tr>\n",
       "      <th>17</th>\n",
       "      <td>0.67</td>\n",
       "      <td>21650</td>\n",
       "    </tr>\n",
       "    <tr>\n",
       "      <th>9</th>\n",
       "      <td>0.59</td>\n",
       "      <td>21690</td>\n",
       "    </tr>\n",
       "    <tr>\n",
       "      <th>8</th>\n",
       "      <td>0.58</td>\n",
       "      <td>21710</td>\n",
       "    </tr>\n",
       "    <tr>\n",
       "      <th>7</th>\n",
       "      <td>0.57</td>\n",
       "      <td>21710</td>\n",
       "    </tr>\n",
       "    <tr>\n",
       "      <th>10</th>\n",
       "      <td>0.60</td>\n",
       "      <td>21720</td>\n",
       "    </tr>\n",
       "    <tr>\n",
       "      <th>6</th>\n",
       "      <td>0.56</td>\n",
       "      <td>22010</td>\n",
       "    </tr>\n",
       "    <tr>\n",
       "      <th>18</th>\n",
       "      <td>0.68</td>\n",
       "      <td>22110</td>\n",
       "    </tr>\n",
       "    <tr>\n",
       "      <th>5</th>\n",
       "      <td>0.55</td>\n",
       "      <td>22540</td>\n",
       "    </tr>\n",
       "    <tr>\n",
       "      <th>19</th>\n",
       "      <td>0.69</td>\n",
       "      <td>22670</td>\n",
       "    </tr>\n",
       "    <tr>\n",
       "      <th>20</th>\n",
       "      <td>0.70</td>\n",
       "      <td>23110</td>\n",
       "    </tr>\n",
       "    <tr>\n",
       "      <th>4</th>\n",
       "      <td>0.54</td>\n",
       "      <td>23130</td>\n",
       "    </tr>\n",
       "    <tr>\n",
       "      <th>23</th>\n",
       "      <td>0.73</td>\n",
       "      <td>23590</td>\n",
       "    </tr>\n",
       "    <tr>\n",
       "      <th>3</th>\n",
       "      <td>0.53</td>\n",
       "      <td>23610</td>\n",
       "    </tr>\n",
       "    <tr>\n",
       "      <th>2</th>\n",
       "      <td>0.52</td>\n",
       "      <td>23610</td>\n",
       "    </tr>\n",
       "    <tr>\n",
       "      <th>25</th>\n",
       "      <td>0.75</td>\n",
       "      <td>23620</td>\n",
       "    </tr>\n",
       "    <tr>\n",
       "      <th>21</th>\n",
       "      <td>0.71</td>\n",
       "      <td>23660</td>\n",
       "    </tr>\n",
       "    <tr>\n",
       "      <th>22</th>\n",
       "      <td>0.72</td>\n",
       "      <td>24080</td>\n",
       "    </tr>\n",
       "    <tr>\n",
       "      <th>1</th>\n",
       "      <td>0.51</td>\n",
       "      <td>24100</td>\n",
       "    </tr>\n",
       "    <tr>\n",
       "      <th>24</th>\n",
       "      <td>0.74</td>\n",
       "      <td>24130</td>\n",
       "    </tr>\n",
       "    <tr>\n",
       "      <th>0</th>\n",
       "      <td>0.50</td>\n",
       "      <td>24650</td>\n",
       "    </tr>\n",
       "    <tr>\n",
       "      <th>26</th>\n",
       "      <td>0.76</td>\n",
       "      <td>24690</td>\n",
       "    </tr>\n",
       "    <tr>\n",
       "      <th>27</th>\n",
       "      <td>0.77</td>\n",
       "      <td>24710</td>\n",
       "    </tr>\n",
       "    <tr>\n",
       "      <th>28</th>\n",
       "      <td>0.78</td>\n",
       "      <td>25790</td>\n",
       "    </tr>\n",
       "    <tr>\n",
       "      <th>29</th>\n",
       "      <td>0.79</td>\n",
       "      <td>26290</td>\n",
       "    </tr>\n",
       "    <tr>\n",
       "      <th>30</th>\n",
       "      <td>0.80</td>\n",
       "      <td>27370</td>\n",
       "    </tr>\n",
       "    <tr>\n",
       "      <th>31</th>\n",
       "      <td>0.81</td>\n",
       "      <td>28390</td>\n",
       "    </tr>\n",
       "    <tr>\n",
       "      <th>32</th>\n",
       "      <td>0.82</td>\n",
       "      <td>31860</td>\n",
       "    </tr>\n",
       "    <tr>\n",
       "      <th>33</th>\n",
       "      <td>0.83</td>\n",
       "      <td>33760</td>\n",
       "    </tr>\n",
       "    <tr>\n",
       "      <th>34</th>\n",
       "      <td>0.84</td>\n",
       "      <td>34870</td>\n",
       "    </tr>\n",
       "    <tr>\n",
       "      <th>35</th>\n",
       "      <td>0.85</td>\n",
       "      <td>37000</td>\n",
       "    </tr>\n",
       "    <tr>\n",
       "      <th>36</th>\n",
       "      <td>0.86</td>\n",
       "      <td>37000</td>\n",
       "    </tr>\n",
       "    <tr>\n",
       "      <th>37</th>\n",
       "      <td>0.87</td>\n",
       "      <td>41440</td>\n",
       "    </tr>\n",
       "    <tr>\n",
       "      <th>38</th>\n",
       "      <td>0.88</td>\n",
       "      <td>44490</td>\n",
       "    </tr>\n",
       "    <tr>\n",
       "      <th>39</th>\n",
       "      <td>0.89</td>\n",
       "      <td>48490</td>\n",
       "    </tr>\n",
       "    <tr>\n",
       "      <th>40</th>\n",
       "      <td>0.90</td>\n",
       "      <td>50970</td>\n",
       "    </tr>\n",
       "    <tr>\n",
       "      <th>41</th>\n",
       "      <td>0.91</td>\n",
       "      <td>54500</td>\n",
       "    </tr>\n",
       "    <tr>\n",
       "      <th>42</th>\n",
       "      <td>0.92</td>\n",
       "      <td>63000</td>\n",
       "    </tr>\n",
       "    <tr>\n",
       "      <th>43</th>\n",
       "      <td>0.93</td>\n",
       "      <td>69960</td>\n",
       "    </tr>\n",
       "    <tr>\n",
       "      <th>44</th>\n",
       "      <td>0.94</td>\n",
       "      <td>81000</td>\n",
       "    </tr>\n",
       "    <tr>\n",
       "      <th>45</th>\n",
       "      <td>0.95</td>\n",
       "      <td>92490</td>\n",
       "    </tr>\n",
       "    <tr>\n",
       "      <th>46</th>\n",
       "      <td>0.96</td>\n",
       "      <td>113110</td>\n",
       "    </tr>\n",
       "    <tr>\n",
       "      <th>47</th>\n",
       "      <td>0.97</td>\n",
       "      <td>135080</td>\n",
       "    </tr>\n",
       "    <tr>\n",
       "      <th>48</th>\n",
       "      <td>0.98</td>\n",
       "      <td>172700</td>\n",
       "    </tr>\n",
       "    <tr>\n",
       "      <th>49</th>\n",
       "      <td>0.99</td>\n",
       "      <td>241360</td>\n",
       "    </tr>\n",
       "    <tr>\n",
       "      <th>50</th>\n",
       "      <td>1.00</td>\n",
       "      <td>333800</td>\n",
       "    </tr>\n",
       "  </tbody>\n",
       "</table>\n",
       "</div>"
      ],
      "text/plain": [
       "       p   score\n",
       "13  0.63   21100\n",
       "16  0.66   21120\n",
       "15  0.65   21160\n",
       "14  0.64   21190\n",
       "11  0.61   21220\n",
       "12  0.62   21250\n",
       "17  0.67   21650\n",
       "9   0.59   21690\n",
       "8   0.58   21710\n",
       "7   0.57   21710\n",
       "10  0.60   21720\n",
       "6   0.56   22010\n",
       "18  0.68   22110\n",
       "5   0.55   22540\n",
       "19  0.69   22670\n",
       "20  0.70   23110\n",
       "4   0.54   23130\n",
       "23  0.73   23590\n",
       "3   0.53   23610\n",
       "2   0.52   23610\n",
       "25  0.75   23620\n",
       "21  0.71   23660\n",
       "22  0.72   24080\n",
       "1   0.51   24100\n",
       "24  0.74   24130\n",
       "0   0.50   24650\n",
       "26  0.76   24690\n",
       "27  0.77   24710\n",
       "28  0.78   25790\n",
       "29  0.79   26290\n",
       "30  0.80   27370\n",
       "31  0.81   28390\n",
       "32  0.82   31860\n",
       "33  0.83   33760\n",
       "34  0.84   34870\n",
       "35  0.85   37000\n",
       "36  0.86   37000\n",
       "37  0.87   41440\n",
       "38  0.88   44490\n",
       "39  0.89   48490\n",
       "40  0.90   50970\n",
       "41  0.91   54500\n",
       "42  0.92   63000\n",
       "43  0.93   69960\n",
       "44  0.94   81000\n",
       "45  0.95   92490\n",
       "46  0.96  113110\n",
       "47  0.97  135080\n",
       "48  0.98  172700\n",
       "49  0.99  241360\n",
       "50  1.00  333800"
      ]
     },
     "metadata": {},
     "execution_count": 241
    }
   ],
   "metadata": {}
  },
  {
   "cell_type": "code",
   "execution_count": 246,
   "source": [
    "y_pred_proba = search_rf.predict_proba(X_test.loc[:, feature_mask])\n",
    "\n",
    "p = 0.5\n",
    "\n",
    "y_pred = []\n",
    "for i in y_pred_proba[:, 1]:\n",
    "    if i >= p:\n",
    "        y_pred.append(1)\n",
    "    else:\n",
    "        y_pred.append(0)\n",
    "evaluator(y_test, y_pred)"
   ],
   "outputs": [
    {
     "output_type": "execute_result",
     "data": {
      "text/plain": [
       "10300"
      ]
     },
     "metadata": {},
     "execution_count": 246
    }
   ],
   "metadata": {}
  },
  {
   "cell_type": "code",
   "execution_count": 253,
   "source": [
    "len(df_test)"
   ],
   "outputs": [
    {
     "output_type": "execute_result",
     "data": {
      "text/plain": [
       "16000"
      ]
     },
     "metadata": {},
     "execution_count": 253
    }
   ],
   "metadata": {}
  },
  {
   "cell_type": "code",
   "execution_count": 252,
   "source": [
    "scorer(no_action, X_test, y_test) * 1000"
   ],
   "outputs": [
    {
     "output_type": "execute_result",
     "data": {
      "text/plain": [
       "-187500000"
      ]
     },
     "metadata": {},
     "execution_count": 252
    }
   ],
   "metadata": {}
  },
  {
   "cell_type": "code",
   "execution_count": 247,
   "source": [
    "confusion_matrix(y_test, y_pred)"
   ],
   "outputs": [
    {
     "output_type": "execute_result",
     "data": {
      "text/plain": [
       "array([[14995,   630],\n",
       "       [    8,   367]])"
      ]
     },
     "metadata": {},
     "execution_count": 247
    }
   ],
   "metadata": {}
  },
  {
   "cell_type": "code",
   "execution_count": 249,
   "source": [
    "print(classification_report(y_test, y_pred))"
   ],
   "outputs": [
    {
     "output_type": "stream",
     "name": "stdout",
     "text": [
      "              precision    recall  f1-score   support\n",
      "\n",
      "         0.0       1.00      0.96      0.98     15625\n",
      "         1.0       0.37      0.98      0.53       375\n",
      "\n",
      "    accuracy                           0.96     16000\n",
      "   macro avg       0.68      0.97      0.76     16000\n",
      "weighted avg       0.98      0.96      0.97     16000\n",
      "\n"
     ]
    }
   ],
   "metadata": {}
  },
  {
   "cell_type": "code",
   "execution_count": 250,
   "source": [
    "print(classification_report(y_test, no_action.predict(X_test)))"
   ],
   "outputs": [
    {
     "output_type": "stream",
     "name": "stdout",
     "text": [
      "              precision    recall  f1-score   support\n",
      "\n",
      "         0.0       0.98      1.00      0.99     15625\n",
      "         1.0       0.00      0.00      0.00       375\n",
      "\n",
      "    accuracy                           0.98     16000\n",
      "   macro avg       0.49      0.50      0.49     16000\n",
      "weighted avg       0.95      0.98      0.96     16000\n",
      "\n"
     ]
    },
    {
     "output_type": "stream",
     "name": "stderr",
     "text": [
      "/Users/ivenwinkelmann/opt/anaconda3/lib/python3.8/site-packages/sklearn/metrics/_classification.py:1248: UndefinedMetricWarning: Precision and F-score are ill-defined and being set to 0.0 in labels with no predicted samples. Use `zero_division` parameter to control this behavior.\n",
      "  _warn_prf(average, modifier, msg_start, len(result))\n",
      "/Users/ivenwinkelmann/opt/anaconda3/lib/python3.8/site-packages/sklearn/metrics/_classification.py:1248: UndefinedMetricWarning: Precision and F-score are ill-defined and being set to 0.0 in labels with no predicted samples. Use `zero_division` parameter to control this behavior.\n",
      "  _warn_prf(average, modifier, msg_start, len(result))\n",
      "/Users/ivenwinkelmann/opt/anaconda3/lib/python3.8/site-packages/sklearn/metrics/_classification.py:1248: UndefinedMetricWarning: Precision and F-score are ill-defined and being set to 0.0 in labels with no predicted samples. Use `zero_division` parameter to control this behavior.\n",
      "  _warn_prf(average, modifier, msg_start, len(result))\n"
     ]
    }
   ],
   "metadata": {}
  }
 ],
 "metadata": {
  "orig_nbformat": 4,
  "language_info": {
   "name": "python",
   "version": "3.8.8",
   "mimetype": "text/x-python",
   "codemirror_mode": {
    "name": "ipython",
    "version": 3
   },
   "pygments_lexer": "ipython3",
   "nbconvert_exporter": "python",
   "file_extension": ".py"
  },
  "kernelspec": {
   "name": "python3",
   "display_name": "Python 3.8.8 64-bit ('base': conda)"
  },
  "interpreter": {
   "hash": "ae536f6b95df49dd083f07529981141025184c1d22e3e1982b15f49841b31737"
  }
 },
 "nbformat": 4,
 "nbformat_minor": 2
}